{
 "cells": [
  {
   "cell_type": "markdown",
   "metadata": {},
   "source": [
    "# Lab | Numpy Deep Dive"
   ]
  },
  {
   "cell_type": "markdown",
   "metadata": {},
   "source": [
    "### 1. Import the NUMPY package under the name np.\n"
   ]
  },
  {
   "cell_type": "code",
   "execution_count": 1,
   "metadata": {},
   "outputs": [],
   "source": [
    "import numpy as np\n"
   ]
  },
  {
   "cell_type": "markdown",
   "metadata": {},
   "source": [
    "\n",
    "\n",
    "### 2. Print the NUMPY version and the configuration.\n"
   ]
  },
  {
   "cell_type": "code",
   "execution_count": 2,
   "metadata": {},
   "outputs": [
    {
     "name": "stdout",
     "output_type": "stream",
     "text": [
      "NumPy Version: 1.26.4\n",
      "{\n",
      "  \"Compilers\": {\n",
      "    \"c\": {\n",
      "      \"name\": \"msvc\",\n",
      "      \"linker\": \"link\",\n",
      "      \"version\": \"19.29.30153\",\n",
      "      \"commands\": \"cl\"\n",
      "    },\n",
      "    \"cython\": {\n",
      "      \"name\": \"cython\",\n",
      "      \"linker\": \"cython\",\n",
      "      \"version\": \"3.0.8\",\n",
      "      \"commands\": \"cython\"\n",
      "    },\n",
      "    \"c++\": {\n",
      "      \"name\": \"msvc\",\n",
      "      \"linker\": \"link\",\n",
      "      \"version\": \"19.29.30153\",\n",
      "      \"commands\": \"cl\"\n",
      "    }\n",
      "  },\n",
      "  \"Machine Information\": {\n",
      "    \"host\": {\n",
      "      \"cpu\": \"x86_64\",\n",
      "      \"family\": \"x86_64\",\n",
      "      \"endian\": \"little\",\n",
      "      \"system\": \"windows\"\n",
      "    },\n",
      "    \"build\": {\n",
      "      \"cpu\": \"x86_64\",\n",
      "      \"family\": \"x86_64\",\n",
      "      \"endian\": \"little\",\n",
      "      \"system\": \"windows\"\n",
      "    }\n",
      "  },\n",
      "  \"Build Dependencies\": {\n",
      "    \"blas\": {\n",
      "      \"name\": \"openblas64\",\n",
      "      \"found\": true,\n",
      "      \"version\": \"0.3.23.dev\",\n",
      "      \"detection method\": \"pkgconfig\",\n",
      "      \"include directory\": \"/c/opt/64/include\",\n",
      "      \"lib directory\": \"/c/opt/64/lib\",\n",
      "      \"openblas configuration\": \"USE_64BITINT=1 DYNAMIC_ARCH=1 DYNAMIC_OLDER= NO_CBLAS= NO_LAPACK= NO_LAPACKE= NO_AFFINITY=1 USE_OPENMP= SKYLAKEX MAX_THREADS=2\",\n",
      "      \"pc file directory\": \"C:/opt/64/lib/pkgconfig\"\n",
      "    },\n",
      "    \"lapack\": {\n",
      "      \"name\": \"dep2270588361616\",\n",
      "      \"found\": true,\n",
      "      \"version\": \"1.26.4\",\n",
      "      \"detection method\": \"internal\",\n",
      "      \"include directory\": \"unknown\",\n",
      "      \"lib directory\": \"unknown\",\n",
      "      \"openblas configuration\": \"unknown\",\n",
      "      \"pc file directory\": \"unknown\"\n",
      "    }\n",
      "  },\n",
      "  \"Python Information\": {\n",
      "    \"path\": \"C:\\\\Users\\\\runneradmin\\\\AppData\\\\Local\\\\Temp\\\\cibw-run-j442zwj6\\\\cp311-win_amd64\\\\build\\\\venv\\\\Scripts\\\\python.exe\",\n",
      "    \"version\": \"3.11\"\n",
      "  },\n",
      "  \"SIMD Extensions\": {\n",
      "    \"baseline\": [\n",
      "      \"SSE\",\n",
      "      \"SSE2\",\n",
      "      \"SSE3\"\n",
      "    ],\n",
      "    \"found\": [\n",
      "      \"SSSE3\",\n",
      "      \"SSE41\",\n",
      "      \"POPCNT\",\n",
      "      \"SSE42\",\n",
      "      \"AVX\",\n",
      "      \"F16C\",\n",
      "      \"FMA3\",\n",
      "      \"AVX2\",\n",
      "      \"AVX512F\",\n",
      "      \"AVX512CD\",\n",
      "      \"AVX512_SKX\",\n",
      "      \"AVX512_CLX\",\n",
      "      \"AVX512_CNL\",\n",
      "      \"AVX512_ICL\"\n",
      "    ]\n",
      "  }\n",
      "}\n"
     ]
    },
    {
     "name": "stderr",
     "output_type": "stream",
     "text": [
      "C:\\Users\\arwa0\\AppData\\Local\\Packages\\PythonSoftwareFoundation.Python.3.11_qbz5n2kfra8p0\\LocalCache\\local-packages\\Python311\\site-packages\\numpy\\__config__.py:155: UserWarning: Install `pyyaml` for better output\n",
      "  warnings.warn(\"Install `pyyaml` for better output\", stacklevel=1)\n"
     ]
    }
   ],
   "source": [
    "print(\"NumPy Version:\", np.__version__) # طباعة إصدار NumPy\n",
    "np.show_config()"
   ]
  },
  {
   "cell_type": "markdown",
   "metadata": {},
   "source": [
    "### 3. Generate a 2x3x5 3-dimensional array with random values. Assign the array to variable \"a\"\n",
    "Challenge: there are at least three easy ways that use numpy to generate random arrays. How many ways can you find?\n"
   ]
  },
  {
   "cell_type": "code",
   "execution_count": 3,
   "metadata": {},
   "outputs": [
    {
     "data": {
      "text/plain": [
       "array([[[0, 0, 0, 0, 0],\n",
       "        [1, 0, 0, 1, 0],\n",
       "        [0, 0, 1, 1, 0]],\n",
       "\n",
       "       [[0, 1, 1, 0, 0],\n",
       "        [0, 1, 1, 0, 1],\n",
       "        [0, 1, 1, 1, 0]]])"
      ]
     },
     "execution_count": 3,
     "metadata": {},
     "output_type": "execute_result"
    }
   ],
   "source": [
    "a = np.random.randint(2, size=(2, 3, 5))\n",
    "a"
   ]
  },
  {
   "cell_type": "markdown",
   "metadata": {},
   "source": [
    "\n",
    "### 4. Print a.\n"
   ]
  },
  {
   "cell_type": "code",
   "execution_count": 4,
   "metadata": {},
   "outputs": [
    {
     "name": "stdout",
     "output_type": "stream",
     "text": [
      "[[[0 0 0 0 0]\n",
      "  [1 0 0 1 0]\n",
      "  [0 0 1 1 0]]\n",
      "\n",
      " [[0 1 1 0 0]\n",
      "  [0 1 1 0 1]\n",
      "  [0 1 1 1 0]]]\n"
     ]
    }
   ],
   "source": [
    "print(a)\n"
   ]
  },
  {
   "cell_type": "markdown",
   "metadata": {},
   "source": [
    "### 5. Create a 5x2x3 3-dimensional array with all values equaling 1.\n",
    "### Assign the array to variable \"b\"\n"
   ]
  },
  {
   "cell_type": "code",
   "execution_count": 5,
   "metadata": {},
   "outputs": [],
   "source": [
    "b = np.ones((5, 2,3))\n"
   ]
  },
  {
   "cell_type": "markdown",
   "metadata": {},
   "source": [
    "\n",
    "### 6. Print b.\n"
   ]
  },
  {
   "cell_type": "code",
   "execution_count": 6,
   "metadata": {},
   "outputs": [
    {
     "name": "stdout",
     "output_type": "stream",
     "text": [
      "[[[1. 1. 1.]\n",
      "  [1. 1. 1.]]\n",
      "\n",
      " [[1. 1. 1.]\n",
      "  [1. 1. 1.]]\n",
      "\n",
      " [[1. 1. 1.]\n",
      "  [1. 1. 1.]]\n",
      "\n",
      " [[1. 1. 1.]\n",
      "  [1. 1. 1.]]\n",
      "\n",
      " [[1. 1. 1.]\n",
      "  [1. 1. 1.]]]\n"
     ]
    }
   ],
   "source": [
    "### [your code here]\n",
    "print(b)"
   ]
  },
  {
   "cell_type": "markdown",
   "metadata": {},
   "source": [
    "\n",
    "### 7. Do a and b have the same size? How do you prove that in Python code?\n"
   ]
  },
  {
   "cell_type": "code",
   "execution_count": 7,
   "metadata": {},
   "outputs": [
    {
     "name": "stdout",
     "output_type": "stream",
     "text": [
      "True\n"
     ]
    }
   ],
   "source": [
    "### [your code here]\n",
    "if a.size == b.size:\n",
    "    print(True)\n",
    "else:\n",
    "    print(False)"
   ]
  },
  {
   "cell_type": "markdown",
   "metadata": {},
   "source": [
    "\n",
    "### 8. Are you able to add a and b? Why or why not?\n"
   ]
  },
  {
   "cell_type": "code",
   "execution_count": 9,
   "metadata": {},
   "outputs": [
    {
     "ename": "ValueError",
     "evalue": "operands could not be broadcast together with shapes (2,3,5) (5,2,3) ",
     "output_type": "error",
     "traceback": [
      "\u001b[1;31m---------------------------------------------------------------------------\u001b[0m",
      "\u001b[1;31mValueError\u001b[0m                                Traceback (most recent call last)",
      "Cell \u001b[1;32mIn[9], line 3\u001b[0m\n\u001b[0;32m      1\u001b[0m \u001b[38;5;66;03m### [your code here]\u001b[39;00m\n\u001b[1;32m----> 3\u001b[0m add_arr \u001b[38;5;241m=\u001b[39m \u001b[43ma\u001b[49m\u001b[43m \u001b[49m\u001b[38;5;241;43m+\u001b[39;49m\u001b[43m \u001b[49m\u001b[43mb\u001b[49m\n",
      "\u001b[1;31mValueError\u001b[0m: operands could not be broadcast together with shapes (2,3,5) (5,2,3) "
     ]
    }
   ],
   "source": [
    "### [your code here]\n",
    "\n",
    "add_arr = a + b\n"
   ]
  },
  {
   "cell_type": "markdown",
   "metadata": {},
   "source": [
    "\n",
    "\n",
    "### 9. Transpose b so that it has the same structure of a (i.e. become a 2x3x5 array). Assign the transposed array to varialbe \"c\".\n"
   ]
  },
  {
   "cell_type": "code",
   "execution_count": 10,
   "metadata": {},
   "outputs": [],
   "source": [
    "c= np.transpose(b, (1, 2, 0)) "
   ]
  },
  {
   "cell_type": "markdown",
   "metadata": {},
   "source": [
    "\n",
    "### 10. Try to add a and c. Now it should work. Assign the sum to variable \"d\". But why does it work now?\n"
   ]
  },
  {
   "cell_type": "code",
   "execution_count": 11,
   "metadata": {},
   "outputs": [
    {
     "name": "stdout",
     "output_type": "stream",
     "text": [
      "[[[1. 1. 1. 1. 1.]\n",
      "  [2. 1. 1. 2. 1.]\n",
      "  [1. 1. 2. 2. 1.]]\n",
      "\n",
      " [[1. 2. 2. 1. 1.]\n",
      "  [1. 2. 2. 1. 2.]\n",
      "  [1. 2. 2. 2. 1.]]]\n"
     ]
    }
   ],
   "source": [
    "### [your code here]\n",
    "d = a + c\n",
    "print(d)"
   ]
  },
  {
   "cell_type": "markdown",
   "metadata": {},
   "source": [
    "\n",
    "### 11. Print a and d. Notice the difference and relation of the two array in terms of the values? Explain.\n"
   ]
  },
  {
   "cell_type": "code",
   "execution_count": 12,
   "metadata": {},
   "outputs": [
    {
     "name": "stdout",
     "output_type": "stream",
     "text": [
      "[[[0 0 0 0 0]\n",
      "  [1 0 0 1 0]\n",
      "  [0 0 1 1 0]]\n",
      "\n",
      " [[0 1 1 0 0]\n",
      "  [0 1 1 0 1]\n",
      "  [0 1 1 1 0]]]\n",
      "[[[1. 1. 1. 1. 1.]\n",
      "  [2. 1. 1. 2. 1.]\n",
      "  [1. 1. 2. 2. 1.]]\n",
      "\n",
      " [[1. 2. 2. 1. 1.]\n",
      "  [1. 2. 2. 1. 2.]\n",
      "  [1. 2. 2. 2. 1.]]]\n"
     ]
    }
   ],
   "source": [
    "### [your code here]\n",
    "print(a)\n",
    "print(d)"
   ]
  },
  {
   "cell_type": "markdown",
   "metadata": {},
   "source": [
    "\n",
    "### 12. Multiply a and c. Assign the result to e.\n"
   ]
  },
  {
   "cell_type": "code",
   "execution_count": 13,
   "metadata": {},
   "outputs": [
    {
     "data": {
      "text/plain": [
       "array([[[0., 0., 0., 0., 0.],\n",
       "        [1., 0., 0., 1., 0.],\n",
       "        [0., 0., 1., 1., 0.]],\n",
       "\n",
       "       [[0., 1., 1., 0., 0.],\n",
       "        [0., 1., 1., 0., 1.],\n",
       "        [0., 1., 1., 1., 0.]]])"
      ]
     },
     "execution_count": 13,
     "metadata": {},
     "output_type": "execute_result"
    }
   ],
   "source": [
    "### [your code here]\n",
    "e = a*c\n",
    "e"
   ]
  },
  {
   "cell_type": "markdown",
   "metadata": {},
   "source": [
    "\n",
    "\n",
    "### 13. Does e equal to a? Why or why not?\n"
   ]
  },
  {
   "cell_type": "code",
   "execution_count": null,
   "metadata": {},
   "outputs": [],
   "source": [
    "### [your code here]\n",
    "# yes "
   ]
  },
  {
   "cell_type": "markdown",
   "metadata": {},
   "source": [
    "\n",
    "\n",
    "### 14. Identify the max, min, and mean values in d. Assign those values to variables \"d_max\", \"d_min\", and \"d_mean\"\n"
   ]
  },
  {
   "cell_type": "code",
   "execution_count": 14,
   "metadata": {},
   "outputs": [
    {
     "name": "stdout",
     "output_type": "stream",
     "text": [
      "2.0\n",
      "1.0\n",
      "1.4\n"
     ]
    }
   ],
   "source": [
    "### [your code here]\n",
    "d_max= np.max(d)\n",
    "d_min= np.min(d)\n",
    "d_mean= np.mean(d)\n",
    "\n",
    "print(d_max)\n",
    "print(d_min)\n",
    "print(d_mean)"
   ]
  },
  {
   "cell_type": "markdown",
   "metadata": {},
   "source": [
    "\n",
    "### 15. Now we want to label the values in d. First create an empty array \"f\" with the same shape (i.e. 2x3x5) as d using `np.empty`.\n"
   ]
  },
  {
   "cell_type": "code",
   "execution_count": 15,
   "metadata": {},
   "outputs": [
    {
     "data": {
      "text/plain": [
       "array([[[0., 0., 0., 0., 0.],\n",
       "        [1., 0., 0., 1., 0.],\n",
       "        [0., 0., 1., 1., 0.]],\n",
       "\n",
       "       [[0., 1., 1., 0., 0.],\n",
       "        [0., 1., 1., 0., 1.],\n",
       "        [0., 1., 1., 1., 0.]]])"
      ]
     },
     "execution_count": 15,
     "metadata": {},
     "output_type": "execute_result"
    }
   ],
   "source": [
    "### [your code here]\n",
    "f= np.empty([2,3,5])\n",
    "f"
   ]
  },
  {
   "cell_type": "markdown",
   "metadata": {},
   "source": [
    "\n",
    "\n",
    "\n",
    "### 16. Populate the values in f. For each value in d, if it's larger than d_min but smaller than d_mean, assign 25 to the corresponding value in f.\n",
    "If a value in d is larger than d_mean but smaller than d_max, assign 75 to the corresponding value in f.\n",
    "If a value equals to d_mean, assign 50 to the corresponding value in f.\n",
    "Assign 0 to the corresponding value(s) in f for d_min in d.\n",
    "Assign 100 to the corresponding value(s) in f for d_max in d.\n",
    "In the end, f should have only the following values: 0, 25, 50, 75, and 100.\n",
    "Note: you don't have to use Numpy in this question.\n",
    "\n"
   ]
  },
  {
   "cell_type": "code",
   "execution_count": 16,
   "metadata": {},
   "outputs": [
    {
     "name": "stdout",
     "output_type": "stream",
     "text": [
      "[[[  0.   0.   0.   0.   0.]\n",
      "  [100.   0.   0. 100.   0.]\n",
      "  [  0.   0. 100. 100.   0.]]\n",
      "\n",
      " [[  0. 100. 100.   0.   0.]\n",
      "  [  0. 100. 100.   0. 100.]\n",
      "  [  0. 100. 100. 100.   0.]]]\n"
     ]
    }
   ],
   "source": [
    "### [your code here]\n",
    "f = np.empty_like(d)\n",
    "for i in range(d.shape[0]): \n",
    "    for j in range(d.shape[1]):  \n",
    "        for k in range(d.shape[2]):  \n",
    "            if d[i, j, k] == d_min:\n",
    "               f[i, j, k] = 0\n",
    "            elif d_min < d[i, j, k] < d_mean:\n",
    "                f[i, j, k] = 25\n",
    "            elif d[i, j, k] == d_mean:\n",
    "                f[i, j, k] = 50\n",
    "            elif d_mean < d[i, j, k] < d_max:\n",
    "                f[i, j, k] = 75\n",
    "            elif d[i, j, k] == d_max:\n",
    "                f[i, j, k] = 100\n",
    "print(f)"
   ]
  },
  {
   "cell_type": "markdown",
   "metadata": {},
   "source": [
    "\n",
    "\n",
    "\n",
    "\n",
    "### 17. Print d and f. Do you have your expected f?\n",
    "For instance, if your d is:\n",
    "array([[[1.85836099, 1.67064465, 1.62576044, 1.40243961, 1.88454931],\n",
    "        [1.75354326, 1.69403643, 1.36729252, 1.61415071, 1.12104981],\n",
    "        [1.72201435, 1.1862918 , 1.87078449, 1.7726778 , 1.88180042]],\n",
    "\n",
    "       [[1.44747908, 1.31673383, 1.02000951, 1.52218947, 1.97066381],\n",
    "        [1.79129243, 1.74983003, 1.96028037, 1.85166831, 1.65450881],\n",
    "        [1.18068344, 1.9587381 , 1.00656599, 1.93402165, 1.73514584]]])\n",
    "\n",
    "Your f should be:\n",
    "array([[[ 75.,  75.,  75.,  25.,  75.],\n",
    "        [ 75.,  75.,  25.,  25.,  25.],\n",
    "        [ 75.,  25.,  75.,  75.,  75.]],\n",
    "\n",
    "       [[ 25.,  25.,  25.,  25., 100.],\n",
    "        [ 75.,  75.,  75.,  75.,  75.],\n",
    "        [ 25.,  75.,   0.,  75.,  75.]]])\n",
    "\n"
   ]
  },
  {
   "cell_type": "code",
   "execution_count": null,
   "metadata": {},
   "outputs": [],
   "source": [
    "#your code here\n",
    "import numpy as np\n",
    "d = np.random.uniform(1, 2, (2, 3, 5))\n",
    "min_val = np.min(d)\n",
    "max_val = np.max(d)\n",
    "f = np.zeros_like(d)\n",
    "f[d == min_val] = 0  \n",
    "f[d == max_val] = 100  \n",
    "f[(d > min_val) & (d < (min_val + (max_val - min_val) / 2))] = 25\n",
    "f[(d >= (min_val + (max_val - min_val) / 2)) & (d < max_val)] = 75\n"
   ]
  },
  {
   "cell_type": "code",
   "execution_count": 23,
   "metadata": {},
   "outputs": [
    {
     "data": {
      "text/plain": [
       "'Array d:'"
      ]
     },
     "metadata": {},
     "output_type": "display_data"
    },
    {
     "data": {
      "text/plain": [
       "array([[[1.4484115 , 1.7506259 , 1.05541606, 1.74033379, 1.91879472],\n",
       "        [1.1578611 , 1.92778681, 1.96817841, 1.17501279, 1.45344244],\n",
       "        [1.25099666, 1.40743611, 1.1211123 , 1.37154496, 1.53597688]],\n",
       "\n",
       "       [[1.61372112, 1.75489118, 1.6938665 , 1.4896549 , 1.04375552],\n",
       "        [1.88443717, 1.75925873, 1.56695152, 1.62025982, 1.44589072],\n",
       "        [1.49085261, 1.66241962, 1.20468197, 1.32227365, 1.5433898 ]]])"
      ]
     },
     "metadata": {},
     "output_type": "display_data"
    },
    {
     "data": {
      "text/plain": [
       "'Array f:'"
      ]
     },
     "metadata": {},
     "output_type": "display_data"
    },
    {
     "data": {
      "text/plain": [
       "array([[[ 25.,  75.,  25.,  75.,  75.],\n",
       "        [ 25.,  75., 100.,  25.,  25.],\n",
       "        [ 25.,  25.,  25.,  25.,  75.]],\n",
       "\n",
       "       [[ 75.,  75.,  75.,  25.,   0.],\n",
       "        [ 75.,  75.,  75.,  75.,  25.],\n",
       "        [ 25.,  75.,  25.,  25.,  75.]]])"
      ]
     },
     "metadata": {},
     "output_type": "display_data"
    }
   ],
   "source": [
    "display(\"Array d:\", d)\n",
    "display(\"Array f:\", f)"
   ]
  },
  {
   "cell_type": "markdown",
   "metadata": {},
   "source": [
    "### 18. Bonus question: instead of using numbers (i.e. 0, 25, 50, 75, and 100), how to use string values \n",
    "(\"A\", \"B\", \"C\", \"D\", and \"E\") to label the array elements? You are expecting the result to be:\n",
    "array([[[ 'D',  'D',  'D',  'B',  'D'],\n",
    "        [ 'D',  'D',  'B',  'B',  'B'],\n",
    "        [ 'D',  'B',  'D',  'D',  'D']],\n",
    "\n",
    "       [[ 'B',  'B',  'B',  'B',  'E'],\n",
    "        [ 'D',  'D',  'D',  'D',  'D'],\n",
    "        [ 'B',  'D',   'A',  'D', 'D']]])\n",
    "Again, you don't need Numpy in this question."
   ]
  },
  {
   "cell_type": "code",
   "execution_count": 24,
   "metadata": {},
   "outputs": [],
   "source": [
    "### [your code here]\n",
    "import numpy as np\n",
    "d = np.random.uniform(1, 2, (2, 3, 5))\n",
    "min_val = np.min(d)\n",
    "max_val = np.max(d)\n",
    "f = np.empty(d.shape, dtype=object)\n",
    "f[d == min_val] = \"A\" \n",
    "f[d == max_val] = \"E\"  \n",
    "f[(d > min_val) & (d < (min_val + (max_val - min_val) / 2))] = \"B\"\n",
    "f[(d >= (min_val + (max_val - min_val) / 2)) & (d < max_val)] = \"D\""
   ]
  },
  {
   "cell_type": "code",
   "execution_count": 25,
   "metadata": {},
   "outputs": [
    {
     "data": {
      "text/plain": [
       "'Array d:'"
      ]
     },
     "metadata": {},
     "output_type": "display_data"
    },
    {
     "data": {
      "text/plain": [
       "array([[[1.94694153, 1.66776886, 1.60246507, 1.46025709, 1.29344827],\n",
       "        [1.41094222, 1.06544742, 1.07899215, 1.39921773, 1.21867486],\n",
       "        [1.12233655, 1.8947733 , 1.96961814, 1.18541972, 1.93274783]],\n",
       "\n",
       "       [[1.75014914, 1.60784183, 1.95511255, 1.43855943, 1.36617452],\n",
       "        [1.34761201, 1.83767152, 1.47272782, 1.07947666, 1.05610606],\n",
       "        [1.10962863, 1.4758492 , 1.83659069, 1.31207383, 1.25633627]]])"
      ]
     },
     "metadata": {},
     "output_type": "display_data"
    },
    {
     "data": {
      "text/plain": [
       "'Array f:'"
      ]
     },
     "metadata": {},
     "output_type": "display_data"
    },
    {
     "data": {
      "text/plain": [
       "array([[['D', 'D', 'D', 'B', 'B'],\n",
       "        ['B', 'B', 'B', 'B', 'B'],\n",
       "        ['B', 'D', 'E', 'B', 'D']],\n",
       "\n",
       "       [['D', 'D', 'D', 'B', 'B'],\n",
       "        ['B', 'D', 'B', 'B', 'A'],\n",
       "        ['B', 'B', 'D', 'B', 'B']]], dtype=object)"
      ]
     },
     "metadata": {},
     "output_type": "display_data"
    }
   ],
   "source": [
    "display(\"Array d:\", d)\n",
    "display(\"Array f:\", f)"
   ]
  }
 ],
 "metadata": {
  "kernelspec": {
   "display_name": "Python 3",
   "language": "python",
   "name": "python3"
  },
  "language_info": {
   "codemirror_mode": {
    "name": "ipython",
    "version": 3
   },
   "file_extension": ".py",
   "mimetype": "text/x-python",
   "name": "python",
   "nbconvert_exporter": "python",
   "pygments_lexer": "ipython3",
   "version": "3.11.9"
  }
 },
 "nbformat": 4,
 "nbformat_minor": 2
}
